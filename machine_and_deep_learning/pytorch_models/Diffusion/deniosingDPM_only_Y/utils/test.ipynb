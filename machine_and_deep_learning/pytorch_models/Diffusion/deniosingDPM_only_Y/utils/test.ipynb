{
 "cells": [
  {
   "cell_type": "code",
   "execution_count": 9,
   "metadata": {},
   "outputs": [],
   "source": [
    "path = \"D://own_repos//machine_and_deep_learning//pytorch_models//Diffusion//denoisingDPM//resources//animals//train//butterfly_e030b2092ce90021d85a5854ee454296eb70e3c818b413449df6c87ca3ed_640.npy\""
   ]
  },
  {
   "cell_type": "code",
   "execution_count": 10,
   "metadata": {},
   "outputs": [],
   "source": [
    "import numpy as np"
   ]
  },
  {
   "cell_type": "code",
   "execution_count": 14,
   "metadata": {},
   "outputs": [],
   "source": [
    "data = np.load(path, allow_pickle=True).item()"
   ]
  },
  {
   "cell_type": "code",
   "execution_count": 18,
   "metadata": {},
   "outputs": [
    {
     "data": {
      "text/plain": [
       "dict_keys(['Y', 'CB', 'CR'])"
      ]
     },
     "execution_count": 18,
     "metadata": {},
     "output_type": "execute_result"
    }
   ],
   "source": [
    "data.keys()"
   ]
  },
  {
   "cell_type": "code",
   "execution_count": 19,
   "metadata": {},
   "outputs": [
    {
     "data": {
      "text/plain": [
       "((80, 54, 64), (40, 27, 64), (40, 27, 64))"
      ]
     },
     "execution_count": 19,
     "metadata": {},
     "output_type": "execute_result"
    }
   ],
   "source": [
    "data['Y'].shape, data['CB'].shape, data['CR'].shape"
   ]
  },
  {
   "cell_type": "code",
   "execution_count": 20,
   "metadata": {},
   "outputs": [
    {
     "name": "stdout",
     "output_type": "stream",
     "text": [
      "Original shape: (40, 27, 64)\n",
      "Upsampled shape: (80, 54, 64)\n"
     ]
    }
   ],
   "source": [
    "from scipy.ndimage import zoom\n",
    "\n",
    "# Create a sample 3D array with shape (40, 27, 64)\n",
    "original_array = np.random.rand(40, 27, 64)\n",
    "\n",
    "# Define the target shape\n",
    "target_shape = (80, 54, 64)\n",
    "\n",
    "# Calculate the zoom factors for each dimension\n",
    "zoom_factors = [target_shape[i] / original_array.shape[i] for i in range(3)]\n",
    "\n",
    "# Upsample the array using the calculated zoom factors\n",
    "upsampled_array = zoom(original_array, zoom_factors, mode='nearest')\n",
    "\n",
    "# Verify the new shape\n",
    "print(\"Original shape:\", original_array.shape)\n",
    "print(\"Upsampled shape:\", upsampled_array.shape)"
   ]
  },
  {
   "cell_type": "code",
   "execution_count": 25,
   "metadata": {},
   "outputs": [
    {
     "name": "stdout",
     "output_type": "stream",
     "text": [
      "(128, 40, 27)\n"
     ]
    }
   ],
   "source": [
    "original_array1 = np.random.rand(40, 27, 64).transpose(2,0,1)\n",
    "original_array2 = np.random.rand(40, 27, 64).transpose(2,0,1)\n",
    "\n",
    "print(np.vstack((original_array1, original_array2)).shape)"
   ]
  },
  {
   "cell_type": "markdown",
   "metadata": {},
   "source": [
    "# Upsample dct_files"
   ]
  },
  {
   "cell_type": "code",
   "execution_count": 29,
   "metadata": {},
   "outputs": [
    {
     "name": "stderr",
     "output_type": "stream",
     "text": [
      "  0%|          | 0/12004 [00:00<?, ?it/s]"
     ]
    },
    {
     "name": "stdout",
     "output_type": "stream",
     "text": [
      "Y = (80, 54, 64), Cb = (40, 27, 64), Cr = (40, 27, 64)\n"
     ]
    },
    {
     "name": "stderr",
     "output_type": "stream",
     "text": [
      "  0%|          | 1/12004 [00:00<1:00:13,  3.32it/s]"
     ]
    },
    {
     "name": "stdout",
     "output_type": "stream",
     "text": [
      "Y = (64, 80, 54), Cb = (64, 80, 54), Cr = (64, 80, 54)\n",
      "Y = (58, 80, 64), Cb = (29, 40, 64), Cr = (29, 40, 64)\n"
     ]
    },
    {
     "name": "stderr",
     "output_type": "stream",
     "text": [
      "  0%|          | 1/12004 [00:00<1:52:55,  1.77it/s]"
     ]
    },
    {
     "name": "stdout",
     "output_type": "stream",
     "text": [
      "Y = (64, 58, 80), Cb = (64, 80, 54), Cr = (64, 80, 54)\n"
     ]
    },
    {
     "name": "stderr",
     "output_type": "stream",
     "text": [
      "\n"
     ]
    },
    {
     "ename": "ValueError",
     "evalue": "all the input array dimensions except for the concatenation axis must match exactly, but along dimension 1, the array at index 0 has size 58 and the array at index 1 has size 80",
     "output_type": "error",
     "traceback": [
      "\u001b[1;31m---------------------------------------------------------------------------\u001b[0m",
      "\u001b[1;31mValueError\u001b[0m                                Traceback (most recent call last)",
      "Cell \u001b[1;32mIn[29], line 25\u001b[0m\n\u001b[0;32m     21\u001b[0m Cr \u001b[38;5;241m=\u001b[39m Cr\u001b[38;5;241m.\u001b[39mtranspose(\u001b[38;5;241m2\u001b[39m,\u001b[38;5;241m0\u001b[39m,\u001b[38;5;241m1\u001b[39m)\n\u001b[0;32m     23\u001b[0m \u001b[38;5;28mprint\u001b[39m(\u001b[38;5;124mf\u001b[39m\u001b[38;5;124m'\u001b[39m\u001b[38;5;124mY = \u001b[39m\u001b[38;5;132;01m{\u001b[39;00mY\u001b[38;5;241m.\u001b[39mshape\u001b[38;5;132;01m}\u001b[39;00m\u001b[38;5;124m, Cb = \u001b[39m\u001b[38;5;132;01m{\u001b[39;00mCb\u001b[38;5;241m.\u001b[39mshape\u001b[38;5;132;01m}\u001b[39;00m\u001b[38;5;124m, Cr = \u001b[39m\u001b[38;5;132;01m{\u001b[39;00mCr\u001b[38;5;241m.\u001b[39mshape\u001b[38;5;132;01m}\u001b[39;00m\u001b[38;5;124m'\u001b[39m)\n\u001b[1;32m---> 25\u001b[0m stacked \u001b[38;5;241m=\u001b[39m \u001b[43mnp\u001b[49m\u001b[38;5;241;43m.\u001b[39;49m\u001b[43mvstack\u001b[49m\u001b[43m(\u001b[49m\u001b[43m(\u001b[49m\u001b[43mY\u001b[49m\u001b[43m,\u001b[49m\u001b[43m \u001b[49m\u001b[43mCb\u001b[49m\u001b[43m,\u001b[49m\u001b[43m \u001b[49m\u001b[43mCr\u001b[49m\u001b[43m)\u001b[49m\u001b[43m)\u001b[49m\n\u001b[0;32m     27\u001b[0m np\u001b[38;5;241m.\u001b[39msave(os\u001b[38;5;241m.\u001b[39mpath\u001b[38;5;241m.\u001b[39mjoin(output_path, file), stacked, allow_pickle\u001b[38;5;241m=\u001b[39m\u001b[38;5;28;01mTrue\u001b[39;00m)\n",
      "File \u001b[1;32mc:\\Users\\HP-Miko\\miniconda3\\Lib\\site-packages\\numpy\\core\\shape_base.py:289\u001b[0m, in \u001b[0;36mvstack\u001b[1;34m(tup, dtype, casting)\u001b[0m\n\u001b[0;32m    287\u001b[0m \u001b[38;5;28;01mif\u001b[39;00m \u001b[38;5;129;01mnot\u001b[39;00m \u001b[38;5;28misinstance\u001b[39m(arrs, \u001b[38;5;28mlist\u001b[39m):\n\u001b[0;32m    288\u001b[0m     arrs \u001b[38;5;241m=\u001b[39m [arrs]\n\u001b[1;32m--> 289\u001b[0m \u001b[38;5;28;01mreturn\u001b[39;00m \u001b[43m_nx\u001b[49m\u001b[38;5;241;43m.\u001b[39;49m\u001b[43mconcatenate\u001b[49m\u001b[43m(\u001b[49m\u001b[43marrs\u001b[49m\u001b[43m,\u001b[49m\u001b[43m \u001b[49m\u001b[38;5;241;43m0\u001b[39;49m\u001b[43m,\u001b[49m\u001b[43m \u001b[49m\u001b[43mdtype\u001b[49m\u001b[38;5;241;43m=\u001b[39;49m\u001b[43mdtype\u001b[49m\u001b[43m,\u001b[49m\u001b[43m \u001b[49m\u001b[43mcasting\u001b[49m\u001b[38;5;241;43m=\u001b[39;49m\u001b[43mcasting\u001b[49m\u001b[43m)\u001b[49m\n",
      "\u001b[1;31mValueError\u001b[0m: all the input array dimensions except for the concatenation axis must match exactly, but along dimension 1, the array at index 0 has size 58 and the array at index 1 has size 80"
     ]
    }
   ],
   "source": [
    "import os\n",
    "import numpy as np\n",
    "from tqdm import tqdm\n",
    "\n",
    "path = \"D://own_repos//machine_and_deep_learning//pytorch_models//Diffusion//denoisingDPM//resources//animals//train\"\n",
    "output_path = \"D://own_repos//machine_and_deep_learning//pytorch_models//Diffusion//denoisingDPM//resources//animals//train_fixed\"\n",
    "\n",
    "target_shape = (80, 54, 64)\n",
    "\n",
    "for file in tqdm(os.listdir(path)):\n",
    "    fpath = os.path.join(path, file)\n",
    "    data = np.load(fpath, allow_pickle=True).item()\n",
    "    Y, Cb, Cr = data['Y'], data['CB'], data['CR']\n",
    "    print(f'Y = {Y.shape}, Cb = {Cb.shape}, Cr = {Cr.shape}')\n",
    "    zoom_factors = [target_shape[i] / Cb.shape[i] for i in range(3)]\n",
    "    Cb = zoom(Cb, zoom_factors, mode='nearest')\n",
    "    Cr = zoom(Cr, zoom_factors, mode='nearest')\n",
    "\n",
    "    Y = Y.transpose(2,0,1)\n",
    "    Cb = Cb.transpose(2,0,1)\n",
    "    Cr = Cr.transpose(2,0,1)\n",
    "\n",
    "    print(f'Y = {Y.shape}, Cb = {Cb.shape}, Cr = {Cr.shape}')\n",
    "\n",
    "    stacked = np.vstack((Y, Cb, Cr))\n",
    "\n",
    "    np.save(os.path.join(output_path, file), stacked, allow_pickle=True)\n",
    "    "
   ]
  },
  {
   "cell_type": "markdown",
   "metadata": {},
   "source": []
  },
  {
   "cell_type": "code",
   "execution_count": null,
   "metadata": {},
   "outputs": [],
   "source": []
  }
 ],
 "metadata": {
  "kernelspec": {
   "display_name": "Python 3",
   "language": "python",
   "name": "python3"
  },
  "language_info": {
   "codemirror_mode": {
    "name": "ipython",
    "version": 3
   },
   "file_extension": ".py",
   "mimetype": "text/x-python",
   "name": "python",
   "nbconvert_exporter": "python",
   "pygments_lexer": "ipython3",
   "version": "3.12.4"
  }
 },
 "nbformat": 4,
 "nbformat_minor": 2
}
